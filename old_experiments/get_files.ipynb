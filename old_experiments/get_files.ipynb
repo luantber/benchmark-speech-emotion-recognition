{
 "nbformat": 4,
 "nbformat_minor": 2,
 "metadata": {
  "language_info": {
   "name": "python",
   "codemirror_mode": {
    "name": "ipython",
    "version": 3
   },
   "version": "3.6.9-final"
  },
  "orig_nbformat": 2,
  "file_extension": ".py",
  "mimetype": "text/x-python",
  "name": "python",
  "npconvert_exporter": "python",
  "pygments_lexer": "ipython3",
  "version": 3,
  "kernelspec": {
   "name": "python36964bit0c22e8d0471c4155a428a4a8fb8232ca",
   "display_name": "Python 3.6.9 64-bit"
  }
 },
 "cells": [
  {
   "cell_type": "code",
   "execution_count": 1,
   "metadata": {},
   "outputs": [],
   "source": [
    "import os\n",
    "import librosa\n",
    "import librosa.display\n",
    "import numpy as np \n",
    "import matplotlib.pyplot as plt\n",
    "import glob"
   ]
  },
  {
   "cell_type": "code",
   "execution_count": 2,
   "metadata": {},
   "outputs": [
    {
     "output_type": "stream",
     "name": "stdout",
     "text": "Ses01M_script01_1_e1_cat.txt\n"
    }
   ],
   "source": [
    "sesiones = [\"Session1\",\"Session2\",\"Session3\",\"Session4\",\"Session5\"]\n",
    "\n",
    "path_audios = \"IEMOCAP_full_release/\" + sesiones[0] + \"/sentences/wav/\"\n",
    "path_evaluaciones_ptr = \"IEMOCAP_full_release/\" + sesiones[0] + \"/dialog/EmoEvaluation/Categorical/*.txt\"\n",
    "path_evaluaciones = \"IEMOCAP_full_release/\" + sesiones[0] + \"/dialog/EmoEvaluation/Categorical\"\n",
    "\n",
    "evaluaciones_files   = glob.glob(path_evaluaciones_ptr)\n",
    "\n",
    "print ( os.path.basename(glob.glob(path_evaluaciones_ptr)[0])   ) \n"
   ]
  },
  {
   "cell_type": "code",
   "execution_count": 3,
   "metadata": {},
   "outputs": [
    {
     "output_type": "execute_result",
     "data": {
      "text/plain": "'Ses01M_script01_1'"
     },
     "metadata": {},
     "execution_count": 3
    }
   ],
   "source": [
    "x = \"Ses01M_script01_1_e1_cat.txt\"\n",
    "y = \"Ses01M_impro01_e1_cat.txt\"\n",
    "def get_path_audios(path):\n",
    "    path = os.path.basename(path)\n",
    "    datos = path.split(\"_\")\n",
    "    nueva_ruta = \"_\".join(datos[0:-2])\n",
    "    return nueva_ruta\n",
    "\n",
    "get_path_audios(x)"
   ]
  },
  {
   "cell_type": "code",
   "execution_count": 4,
   "metadata": {
    "tags": [
     "outputPrepend"
    ]
   },
   "outputs": [],
   "source": [
    "def get_emotions(path):\n",
    "    audios = []\n",
    "    emociones = []\n",
    "    with open(path,'r') as f:\n",
    "        f = f.readlines()\n",
    "        for linea in f:\n",
    "            temp = linea.split(\" \")\n",
    "            audio = temp[0]\n",
    "            emocion = temp[1][1:-1]\n",
    "            audios.append(audio)\n",
    "            emociones.append(emocion)\n",
    "    return audios, emociones\n",
    ""
   ]
  },
  {
   "cell_type": "code",
   "execution_count": 5,
   "metadata": {},
   "outputs": [],
   "source": [
    "x = []\n",
    "y = []\n",
    "\n",
    "# path_audios , path_evaluaciones \n",
    "for eva in evaluaciones_files:\n",
    "    #emocion = \n",
    "    #audio = get_path_audios(eva)\n",
    "    audios, emociones = get_emotions(eva)\n",
    "    x.extend(audios)\n",
    "    y.extend(emociones)\n",
    "\n",
    ""
   ]
  },
  {
   "cell_type": "code",
   "execution_count": 13,
   "metadata": {
    "tags": [
     "outputPrepend",
     "outputPrepend"
    ]
   },
   "outputs": [
    {
     "output_type": "execute_result",
     "data": {
      "text/plain": "5457"
     },
     "metadata": {},
     "execution_count": 13
    }
   ],
   "source": [
    "x_paths = []\n",
    "for audio in x:\n",
    "    #print(audio)\n",
    "    path = str(path_audios)\n",
    "    folder = audio[:-5 ]\n",
    "    path += folder\n",
    "    path += \"/\"+  audio\n",
    "    path += \".wav\"\n",
    "    x_paths.append(path)\n",
    "len(x_paths)"
   ]
  }
 ]
}