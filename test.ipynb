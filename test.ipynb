{
 "cells": [
  {
   "cell_type": "code",
   "execution_count": 18,
   "metadata": {},
   "outputs": [],
   "source": [
    "from models.cnn import CNN\n",
    "\n",
    "path = \"lightning_logs/version_18/checkpoints/epoch=217.ckpt\"\n",
    "\n",
    "model_cnn = CNN.load_from_checkpoint(path)\n"
   ]
  },
  {
   "cell_type": "code",
   "execution_count": 19,
   "metadata": {
    "tags": []
   },
   "outputs": [],
   "source": [
    "from dataset.ravdess import Ravdess\n",
    "from models.transforms import to_spectrogram_compose\n",
    "import matplotlib.pyplot as plt \n",
    "\n",
    "dataset_origin = Ravdess()\n",
    "dataset = Ravdess(transform=to_spectrogram_compose)"
   ]
  },
  {
   "cell_type": "code",
   "execution_count": 20,
   "metadata": {
    "tags": []
   },
   "outputs": [],
   "source": [
    "import torch.nn.functional as F\n",
    "import torch.utils.data as data\n",
    "\n",
    "databatch = data.DataLoader ( Ravdess(transform=to_spectrogram_compose), batch_size=64, num_workers=3 ) \n"
   ]
  },
  {
   "cell_type": "code",
   "execution_count": 21,
   "metadata": {
    "tags": []
   },
   "outputs": [
    {
     "output_type": "stream",
     "name": "stdout",
     "text": "0.0534149594604969\n0.023614151403307915\n0.059965990483760834\n0.07298322767019272\n0.015406674705445766\n0.06540705263614655\n0.04903869703412056\n0.16485074162483215\n0.08816279470920563\n0.15261049568653107\n0.15449027717113495\n0.08634337782859802\n0.0944427028298378\n0.1030806377530098\n0.04435301572084427\n0.08409738540649414\n0.25012293457984924\n0.03939197584986687\n"
    }
   ],
   "source": [
    "\n",
    "from torch.nn import CrossEntropyLoss\n",
    "import torch.optim as optim\n",
    "\n",
    "for x, y in (databatch):\n",
    "    out = model_cnn(x)\n",
    "    criterion = CrossEntropyLoss()\n",
    "    loss = criterion(out,y)\n",
    "    print ( loss.item() )\n"
   ]
  },
  {
   "cell_type": "code",
   "execution_count": 9,
   "metadata": {
    "tags": []
   },
   "outputs": [
    {
     "output_type": "stream",
     "name": "stdout",
     "text": "epoch 1 0  loss: 2.074631929397583\nepoch 1 0  loss: 3.4194319248199463\nepoch 1 0  loss: 2.359161615371704\nepoch 1 0  loss: 2.2117209434509277\nepoch 1 0  loss: 2.135348081588745\nepoch 1 0  loss: 2.0813276767730713\nepoch 1 0  loss: 2.111276149749756\nepoch 1 0  loss: 2.086606740951538\nepoch 1 0  loss: 2.0777764320373535\nepoch 1 0  loss: 1.9967732429504395\nepoch 1 0  loss: 2.132418394088745\nepoch 1 0  loss: 2.068824052810669\nepoch 1 0  loss: 2.0443217754364014\nepoch 1 0  loss: 1.9958676099777222\nepoch 1 0  loss: 2.0148022174835205\nepoch 1 0  loss: 1.9458742141723633\nepoch 1 0  loss: 1.9904146194458008\nepoch 1 0  loss: 2.0696067810058594\n"
    }
   ],
   "source": [
    "optimizer = optim.Adam(model_cnn.parameters())\n",
    "\n",
    "for i in range(1):\n",
    "    for x,y in databatch:\n",
    "        optimizer.zero_grad()\n",
    "        out = model_cnn(x)\n",
    "        loss = criterion(out,y)\n",
    "        loss.backward()\n",
    "        optimizer.step()\n",
    "        print ( \"epoch 1\", i , \" loss:\", loss.item() )"
   ]
  },
  {
   "cell_type": "code",
   "execution_count": 57,
   "metadata": {
    "tags": []
   },
   "outputs": [
    {
     "output_type": "stream",
     "name": "stdout",
     "text": "tensor([7, 6, 1, 1, 6, 1, 5, 4, 3, 4, 1, 1, 1, 6, 2, 4, 1, 6, 7, 2])\ntensor([7, 5, 0, 3, 7, 6, 5, 4, 1, 2, 6, 3, 1, 6, 5, 5, 0, 1, 4, 3])\n"
    }
   ],
   "source": [
    " out = model_cnn(x)\n",
    " _, resp = F.log_softmax(  out ).max(dim=1)\n",
    "\n",
    " print ( resp[:20] )\n",
    " print ( y[:20] )\n",
    " "
   ]
  }
 ],
 "metadata": {
  "language_info": {
   "codemirror_mode": {
    "name": "ipython",
    "version": 3
   },
   "file_extension": ".py",
   "mimetype": "text/x-python",
   "name": "python",
   "nbconvert_exporter": "python",
   "pygments_lexer": "ipython3",
   "version": "3.6.9-final"
  },
  "orig_nbformat": 2,
  "kernelspec": {
   "name": "python36964bit153c849c81b04eb7ae976799b48fc538",
   "display_name": "Python 3.6.9 64-bit"
  }
 },
 "nbformat": 4,
 "nbformat_minor": 2
}