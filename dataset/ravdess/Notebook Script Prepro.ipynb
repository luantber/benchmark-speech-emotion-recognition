{
 "cells": [
  {
   "cell_type": "code",
   "execution_count": 22,
   "metadata": {
    "tags": []
   },
   "outputs": [],
   "source": [
    "import glob\n",
    "import os\n",
    "import csv\n",
    "\n",
    "def create_csv(my_path=\"Audio_Speech_Actors_01-24\"):\n",
    "    files = glob.glob(my_path + '/**/*.wav', recursive=True)\n",
    "\n",
    "    with open('dataset.csv', mode='w') as csv_file:\n",
    "        csv_file = csv.writer(csv_file, delimiter=',')\n",
    "\n",
    "        for f in files:\n",
    "            filename = os.path.basename(f)\n",
    "            features = filename[:-4].split('-')\n",
    "            csv_file.writerow( [f] + features  )\n",
    "\n",
    "            "
   ]
  },
  {
   "cell_type": "code",
   "execution_count": 6,
   "metadata": {
    "tags": []
   },
   "outputs": [
    {
     "output_type": "stream",
     "name": "stdout",
     "text": "((tensor([[3.0518e-05, 3.0518e-05, 0.0000e+00,  ..., 0.0000e+00, 3.0518e-05,\n         3.0518e-05]]), 48000), 8)\n"
    }
   ],
   "source": [
    "from torch.utils.data import Dataset\n",
    "import torchaudio\n",
    "import pandas as pd\n",
    "import glob\n",
    "import os\n",
    "import csv\n",
    "\n",
    "class Ravdess(Dataset):\n",
    "    def __init__(self,\n",
    "            root_dir=\".\",\n",
    "            folder_audios=\"Audio_Speech_Actors_01-24\" , \n",
    "            csv_file=\"ravdess_dataset.csv\",\n",
    "            transform=None):\n",
    "\n",
    "        self.folder_audios=folder_audios\n",
    "        self.root_dir = root_dir \n",
    "        self.csv_file = csv_file\n",
    "\n",
    "        if not os.path.isfile(os.path.join(self.root_dir , self.csv_file )):\n",
    "            print(\"Creando CSV\")\n",
    "            self.create_csv()\n",
    "        \n",
    "        self.dataset = pd.read_csv(self.csv_file)\n",
    "        self.transform = transform \n",
    "    \n",
    "    def __len__(self):\n",
    "        return len(self.dataset)\n",
    "\n",
    "    def __getitem__(self, idx):\n",
    "        audio_path = os.path.join( self.root_dir , self.dataset.loc[ idx , 'file'] )\n",
    "        audio = torchaudio.load(audio_path)\n",
    "        emotion = self.dataset.loc[ idx , 'emotion']\n",
    "        return audio, emotion \n",
    "\n",
    "    def create_csv(self):\n",
    "        files = glob.glob(self.folder_audios + '/**/*.wav', recursive=True)\n",
    "\n",
    "        with open(self.csv_file, mode='w') as new_csv_file:\n",
    "            new_csv_file = csv.writer(new_csv_file, delimiter=',')\n",
    "            new_csv_file.writerow( [\n",
    "                \"file\" ,\n",
    "                \"mode\",\n",
    "                \"channel\",\n",
    "                \"emotion\",\n",
    "                \"intensity\",\n",
    "                \"statement\",\n",
    "                \"repetition\",\n",
    "                \"actor\"])\n",
    "                \n",
    "            for f in files:\n",
    "                filename = os.path.basename(f)\n",
    "                features = filename[:-4].split('-')\n",
    "                new_csv_file.writerow( [f] + features  )\n",
    "\n",
    "\n",
    "dataset = Ravdess()\n",
    "len(dataset)\n",
    "\n",
    "for i in dataset:\n",
    "    print (i )\n",
    "    break"
   ]
  },
  {
   "cell_type": "code",
   "execution_count": 1,
   "metadata": {
    "tags": []
   },
   "outputs": [
    {
     "output_type": "execute_result",
     "data": {
      "text/plain": "'/home/luisbch/Documentos/tesis-final/experimento/dataset'"
     },
     "metadata": {},
     "execution_count": 1
    }
   ],
   "source": [
    "import pandas as pd \n",
    "import torchaudio\n",
    "\n",
    "import os\n",
    "os.getcwd() \n",
    "#df = pd.read_csv(\"ravdess_dataset.csv\",header=True)\n",
    "#print(df)"
   ]
  },
  {
   "cell_type": "code",
   "execution_count": 1,
   "metadata": {},
   "outputs": [],
   "source": [
    "import ravdess\n",
    "\n",
    "\n"
   ]
  }
 ],
 "metadata": {
  "language_info": {
   "codemirror_mode": {
    "name": "ipython",
    "version": 3
   },
   "file_extension": ".py",
   "mimetype": "text/x-python",
   "name": "python",
   "nbconvert_exporter": "python",
   "pygments_lexer": "ipython3",
   "version": "3.6.9-final"
  },
  "orig_nbformat": 2,
  "kernelspec": {
   "name": "python36964bit153c849c81b04eb7ae976799b48fc538",
   "display_name": "Python 3.6.9 64-bit"
  }
 },
 "nbformat": 4,
 "nbformat_minor": 2
}