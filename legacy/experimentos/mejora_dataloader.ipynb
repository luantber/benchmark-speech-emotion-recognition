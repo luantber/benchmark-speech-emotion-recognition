{
 "metadata": {
  "language_info": {
   "codemirror_mode": {
    "name": "ipython",
    "version": 3
   },
   "file_extension": ".py",
   "mimetype": "text/x-python",
   "name": "python",
   "nbconvert_exporter": "python",
   "pygments_lexer": "ipython3",
   "version": "3.6.9-final"
  },
  "orig_nbformat": 2,
  "kernelspec": {
   "name": "python36964bit153c849c81b04eb7ae976799b48fc538",
   "display_name": "Python 3.6.9 64-bit"
  }
 },
 "nbformat": 4,
 "nbformat_minor": 2,
 "cells": [
  {
   "cell_type": "code",
   "execution_count": 1,
   "metadata": {},
   "outputs": [],
   "source": [
    "import sys\n",
    "sys.path.append(\"..\")"
   ]
  },
  {
   "cell_type": "code",
   "execution_count": 2,
   "metadata": {
    "tags": []
   },
   "outputs": [
    {
     "output_type": "stream",
     "name": "stdout",
     "text": "8 \t 2.2165114879608154\n32 \t 1.2335336208343506\n64 \t 0.9325652122497559\n128 \t 0.8723757266998291\n288 \t 0.8905260562896729\n512 \t 0.8002910614013672\n"
    }
   ],
   "source": [
    "from dataset.ravdess import Ravdess\n",
    "from models.transforms import to_mfcc_compose\n",
    "from torch.utils.data import DataLoader\n",
    "import time\n",
    "\n",
    "#1152\n",
    "def bench_load(batch_size):\n",
    "    t1 = time.time()\n",
    "    dataset = DataLoader(Ravdess(root_dir=\"../dataset/ravdess\",transform=to_mfcc_compose),batch_size=batch_size,num_workers=4)\n",
    "    for x,y in dataset:\n",
    "        pass\n",
    "    print ( batch_size,\"\\t\" , time.time() - t1 )\n",
    "\n",
    "bench_load(8) #144 - 36\n",
    "bench_load(32) #36 - 9 \n",
    "bench_load(64) #18 - 4.5\n",
    "bench_load(128) #9 - 2.25\n",
    "bench_load(288) #5 - 1.25\n",
    "bench_load(512) #3 - 0.75\n",
    "# bench_load(1200) #1 - 0.25\n"
   ]
  },
  {
   "cell_type": "code",
   "execution_count": 12,
   "metadata": {
    "tags": []
   },
   "outputs": [
    {
     "output_type": "stream",
     "name": "stdout",
     "text": "576 \t 32.537407636642456\n288 \t 34.226203203201294\n144 \t 35.4405722618103\n96 \t 33.42972731590271\n"
    }
   ],
   "source": [
    "bench_load(576)\n",
    "bench_load(288)\n",
    "bench_load(144)\n",
    "bench_load(96)"
   ]
  }
 ]
}